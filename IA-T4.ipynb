{
 "cells": [
  {
   "cell_type": "code",
   "execution_count": 1,
   "metadata": {
    "id": "q1tPdd5Jg_HO",
    "pycharm": {
     "name": "#%%\n"
    }
   },
   "outputs": [],
   "source": [
    "import os\n",
    "import numpy as np\n",
    "import matplotlib.pyplot as plt\n",
    "%matplotlib inline\n",
    "from sklearn.metrics import classification_report\n",
    "from sklearn.metrics import confusion_matrix\n",
    "import seaborn as sns\n",
    "from sklearn.model_selection import train_test_split\n",
    "from sklearn.preprocessing import LabelEncoder\n",
    "from os.path import join\n",
    "import os\n",
    "import pandas as pd\n",
    "from sklearn.preprocessing import StandardScaler"
   ]
  },
  {
   "cell_type": "markdown",
   "metadata": {
    "id": "-YZir9AOjcWW",
    "pycharm": {
     "name": "#%% md\n"
    }
   },
   "source": [
    "# Classificação de clientes"
   ]
  },
  {
   "cell_type": "markdown",
   "metadata": {
    "id": "1q_hJLpdsoML",
    "pycharm": {
     "name": "#%% md\n"
    }
   },
   "source": [
    "## Carga e inspeção dos dados"
   ]
  },
  {
   "cell_type": "code",
   "execution_count": 2,
   "metadata": {
    "id": "kqhbdu5V_uCi",
    "pycharm": {
     "name": "#%%\n"
    }
   },
   "outputs": [],
   "source": [
    "# Definição dos nomes das variáveis (conforme a tabela contida no enunciado)\n",
    "colnames = ['ESCT', 'NDEP', 'RENDA', 'TIPOR', 'VBEM', 'NPARC',\n",
    "            'VPARC', 'TEL', 'IDADE', 'RESMS', 'ENTRADA', 'CLASSE']"
   ]
  },
  {
   "cell_type": "code",
   "execution_count": 3,
   "metadata": {
    "id": "O8f0yXVbtEmZ",
    "pycharm": {
     "name": "#%%\n"
    }
   },
   "outputs": [],
   "source": [
    "# Leitura dos dados de treino\n",
    "arquivo = './credtrain.txt'\n",
    "data_train = pd.read_csv(arquivo, sep='\\t', header=None, names = colnames)\n",
    "\n",
    "# Leitura dos dados de teste\n",
    "arquivo = './credtest.txt'\n",
    "data_test = pd.read_csv(arquivo, sep='\\t', header=None, names = colnames)"
   ]
  },
  {
   "cell_type": "markdown",
   "metadata": {
    "id": "0tFxQ82et98A",
    "pycharm": {
     "name": "#%% md\n"
    }
   },
   "source": [
    "**Inspeção dos dados**"
   ]
  },
  {
   "cell_type": "code",
   "execution_count": 4,
   "metadata": {
    "colab": {
     "base_uri": "https://localhost:8080/"
    },
    "id": "Doy7gsSfecpv",
    "outputId": "54577545-9544-4da0-91ca-d6f95524f18c",
    "pycharm": {
     "name": "#%%\n"
    }
   },
   "outputs": [
    {
     "name": "stdout",
     "output_type": "stream",
     "text": [
      "(1500, 12) (577, 12)\n"
     ]
    }
   ],
   "source": [
    "# Inspeção da dimensão do dataset\n",
    "print(data_train.shape, data_test.shape)"
   ]
  },
  {
   "cell_type": "code",
   "execution_count": 5,
   "metadata": {
    "colab": {
     "base_uri": "https://localhost:8080/",
     "height": 206
    },
    "id": "1gM-thS-_uCj",
    "outputId": "9cf88e82-c40e-47f7-d0e3-7f91d16800c5",
    "pycharm": {
     "name": "#%%\n"
    }
   },
   "outputs": [
    {
     "data": {
      "text/plain": "   ESCT  NDEP  RENDA  TIPOR  VBEM  NPARC  VPARC  TEL  IDADE  RESMS  ENTRADA  \\\n0     1     0    360      0   313      9     52    0     25     48        0   \n1     0     0    350      1   468     10     65    0     33      6        0   \n2     0     0   1100      0   829      9    125    0     56     48        0   \n3     0     0   3000      0   552     12     76    1     31     60        0   \n4     1     0   1000      0   809     12    111    0     24      7        0   \n\n   CLASSE  \n0       1  \n1       1  \n2       1  \n3       1  \n4       1  ",
      "text/html": "<div>\n<style scoped>\n    .dataframe tbody tr th:only-of-type {\n        vertical-align: middle;\n    }\n\n    .dataframe tbody tr th {\n        vertical-align: top;\n    }\n\n    .dataframe thead th {\n        text-align: right;\n    }\n</style>\n<table border=\"1\" class=\"dataframe\">\n  <thead>\n    <tr style=\"text-align: right;\">\n      <th></th>\n      <th>ESCT</th>\n      <th>NDEP</th>\n      <th>RENDA</th>\n      <th>TIPOR</th>\n      <th>VBEM</th>\n      <th>NPARC</th>\n      <th>VPARC</th>\n      <th>TEL</th>\n      <th>IDADE</th>\n      <th>RESMS</th>\n      <th>ENTRADA</th>\n      <th>CLASSE</th>\n    </tr>\n  </thead>\n  <tbody>\n    <tr>\n      <th>0</th>\n      <td>1</td>\n      <td>0</td>\n      <td>360</td>\n      <td>0</td>\n      <td>313</td>\n      <td>9</td>\n      <td>52</td>\n      <td>0</td>\n      <td>25</td>\n      <td>48</td>\n      <td>0</td>\n      <td>1</td>\n    </tr>\n    <tr>\n      <th>1</th>\n      <td>0</td>\n      <td>0</td>\n      <td>350</td>\n      <td>1</td>\n      <td>468</td>\n      <td>10</td>\n      <td>65</td>\n      <td>0</td>\n      <td>33</td>\n      <td>6</td>\n      <td>0</td>\n      <td>1</td>\n    </tr>\n    <tr>\n      <th>2</th>\n      <td>0</td>\n      <td>0</td>\n      <td>1100</td>\n      <td>0</td>\n      <td>829</td>\n      <td>9</td>\n      <td>125</td>\n      <td>0</td>\n      <td>56</td>\n      <td>48</td>\n      <td>0</td>\n      <td>1</td>\n    </tr>\n    <tr>\n      <th>3</th>\n      <td>0</td>\n      <td>0</td>\n      <td>3000</td>\n      <td>0</td>\n      <td>552</td>\n      <td>12</td>\n      <td>76</td>\n      <td>1</td>\n      <td>31</td>\n      <td>60</td>\n      <td>0</td>\n      <td>1</td>\n    </tr>\n    <tr>\n      <th>4</th>\n      <td>1</td>\n      <td>0</td>\n      <td>1000</td>\n      <td>0</td>\n      <td>809</td>\n      <td>12</td>\n      <td>111</td>\n      <td>0</td>\n      <td>24</td>\n      <td>7</td>\n      <td>0</td>\n      <td>1</td>\n    </tr>\n  </tbody>\n</table>\n</div>"
     },
     "execution_count": 5,
     "metadata": {},
     "output_type": "execute_result"
    }
   ],
   "source": [
    "# Inspeção das primeiras linhas do conjunto de treinamento\n",
    "data_train.head()"
   ]
  },
  {
   "cell_type": "code",
   "execution_count": 6,
   "metadata": {
    "colab": {
     "base_uri": "https://localhost:8080/",
     "height": 206
    },
    "id": "2qdSwb4AuGEo",
    "outputId": "5cc99334-28d5-4dd7-b221-0c97aafe32c7",
    "pycharm": {
     "name": "#%%\n"
    }
   },
   "outputs": [
    {
     "data": {
      "text/plain": "   ESCT  NDEP  RENDA  TIPOR  VBEM  NPARC  VPARC  TEL  IDADE  RESMS  ENTRADA  \\\n0     0     2    500      1   618     10     85    0     36      6        0   \n1     1     0    813      0   552      4    119    0     43     48      119   \n2     3     0    350      0   488     12     66    0     43      0        0   \n3     1     0   1530      0   381      1    398    0     28     48        0   \n4     0     0    688      1   396     10     60    0     49     72        0   \n\n   CLASSE  \n0       0  \n1       1  \n2       1  \n3       1  \n4       1  ",
      "text/html": "<div>\n<style scoped>\n    .dataframe tbody tr th:only-of-type {\n        vertical-align: middle;\n    }\n\n    .dataframe tbody tr th {\n        vertical-align: top;\n    }\n\n    .dataframe thead th {\n        text-align: right;\n    }\n</style>\n<table border=\"1\" class=\"dataframe\">\n  <thead>\n    <tr style=\"text-align: right;\">\n      <th></th>\n      <th>ESCT</th>\n      <th>NDEP</th>\n      <th>RENDA</th>\n      <th>TIPOR</th>\n      <th>VBEM</th>\n      <th>NPARC</th>\n      <th>VPARC</th>\n      <th>TEL</th>\n      <th>IDADE</th>\n      <th>RESMS</th>\n      <th>ENTRADA</th>\n      <th>CLASSE</th>\n    </tr>\n  </thead>\n  <tbody>\n    <tr>\n      <th>0</th>\n      <td>0</td>\n      <td>2</td>\n      <td>500</td>\n      <td>1</td>\n      <td>618</td>\n      <td>10</td>\n      <td>85</td>\n      <td>0</td>\n      <td>36</td>\n      <td>6</td>\n      <td>0</td>\n      <td>0</td>\n    </tr>\n    <tr>\n      <th>1</th>\n      <td>1</td>\n      <td>0</td>\n      <td>813</td>\n      <td>0</td>\n      <td>552</td>\n      <td>4</td>\n      <td>119</td>\n      <td>0</td>\n      <td>43</td>\n      <td>48</td>\n      <td>119</td>\n      <td>1</td>\n    </tr>\n    <tr>\n      <th>2</th>\n      <td>3</td>\n      <td>0</td>\n      <td>350</td>\n      <td>0</td>\n      <td>488</td>\n      <td>12</td>\n      <td>66</td>\n      <td>0</td>\n      <td>43</td>\n      <td>0</td>\n      <td>0</td>\n      <td>1</td>\n    </tr>\n    <tr>\n      <th>3</th>\n      <td>1</td>\n      <td>0</td>\n      <td>1530</td>\n      <td>0</td>\n      <td>381</td>\n      <td>1</td>\n      <td>398</td>\n      <td>0</td>\n      <td>28</td>\n      <td>48</td>\n      <td>0</td>\n      <td>1</td>\n    </tr>\n    <tr>\n      <th>4</th>\n      <td>0</td>\n      <td>0</td>\n      <td>688</td>\n      <td>1</td>\n      <td>396</td>\n      <td>10</td>\n      <td>60</td>\n      <td>0</td>\n      <td>49</td>\n      <td>72</td>\n      <td>0</td>\n      <td>1</td>\n    </tr>\n  </tbody>\n</table>\n</div>"
     },
     "execution_count": 6,
     "metadata": {},
     "output_type": "execute_result"
    }
   ],
   "source": [
    "# Inspeção das primeiras linhas do conjunto de teste\n",
    "data_test.head()"
   ]
  },
  {
   "cell_type": "markdown",
   "metadata": {
    "id": "6nLoBloCF-sZ",
    "pycharm": {
     "name": "#%% md\n"
    }
   },
   "source": [
    "## Pré-processamento dos dados"
   ]
  },
  {
   "cell_type": "markdown",
   "metadata": {
    "id": "q-Xss-RY2tml",
    "pycharm": {
     "name": "#%% md\n"
    }
   },
   "source": [
    "### Transformação de variáveis categóricas\n",
    "\n",
    "A variável ESCT (Estado Civil) é categórica, podendo assumir 4 valores diferentes (cada valor corresponde a um estado civil). Repare que não há uma ordem definida sobre esse valores. Para comparação, considere a variável NDEP (que corresponde à quantidade de dependentes do cliente).\n",
    "\n",
    "A presença de variáveis categóricas em um conjunto de treinamento pode dificultar a geração do modelo de classificação. Isso porque a maioria dos algoritmos de aprendizado (as redes neurais incluídas) presumem a existência de uma ordem total sobre os valores de uma variável. Para mitigar este problema, uma alternativa é transformar a variável ESCT em diversas variáveis *dummy* (variável binária). Uma variável *dummy* é uma variável binária utilizada para representar categorias. Sendo assim, a variável ESCT será transformada em 4 \"variantes dummy\", onde o valor 1 corresponderá à ocorrência de determinada categoria e o valor 0 corresponderá à não ocorrência."
   ]
  },
  {
   "cell_type": "code",
   "execution_count": 7,
   "metadata": {
    "colab": {
     "base_uri": "https://localhost:8080/",
     "height": 206
    },
    "id": "yErjVPa6_uCo",
    "outputId": "9dfb503d-def6-42c8-9ffe-ef8433bf372e",
    "pycharm": {
     "name": "#%%\n"
    }
   },
   "outputs": [
    {
     "data": {
      "text/plain": "   NDEP  RENDA  TIPOR  VBEM  NPARC  VPARC  TEL  IDADE  RESMS  ENTRADA  CLASSE  \\\n0     0    360      0   313      9     52    0     25     48        0       1   \n1     0    350      1   468     10     65    0     33      6        0       1   \n2     0   1100      0   829      9    125    0     56     48        0       1   \n3     0   3000      0   552     12     76    1     31     60        0       1   \n4     0   1000      0   809     12    111    0     24      7        0       1   \n\n   ESCT_1  ESCT_2  ESCT_3  \n0       1       0       0  \n1       0       0       0  \n2       0       0       0  \n3       0       0       0  \n4       1       0       0  ",
      "text/html": "<div>\n<style scoped>\n    .dataframe tbody tr th:only-of-type {\n        vertical-align: middle;\n    }\n\n    .dataframe tbody tr th {\n        vertical-align: top;\n    }\n\n    .dataframe thead th {\n        text-align: right;\n    }\n</style>\n<table border=\"1\" class=\"dataframe\">\n  <thead>\n    <tr style=\"text-align: right;\">\n      <th></th>\n      <th>NDEP</th>\n      <th>RENDA</th>\n      <th>TIPOR</th>\n      <th>VBEM</th>\n      <th>NPARC</th>\n      <th>VPARC</th>\n      <th>TEL</th>\n      <th>IDADE</th>\n      <th>RESMS</th>\n      <th>ENTRADA</th>\n      <th>CLASSE</th>\n      <th>ESCT_1</th>\n      <th>ESCT_2</th>\n      <th>ESCT_3</th>\n    </tr>\n  </thead>\n  <tbody>\n    <tr>\n      <th>0</th>\n      <td>0</td>\n      <td>360</td>\n      <td>0</td>\n      <td>313</td>\n      <td>9</td>\n      <td>52</td>\n      <td>0</td>\n      <td>25</td>\n      <td>48</td>\n      <td>0</td>\n      <td>1</td>\n      <td>1</td>\n      <td>0</td>\n      <td>0</td>\n    </tr>\n    <tr>\n      <th>1</th>\n      <td>0</td>\n      <td>350</td>\n      <td>1</td>\n      <td>468</td>\n      <td>10</td>\n      <td>65</td>\n      <td>0</td>\n      <td>33</td>\n      <td>6</td>\n      <td>0</td>\n      <td>1</td>\n      <td>0</td>\n      <td>0</td>\n      <td>0</td>\n    </tr>\n    <tr>\n      <th>2</th>\n      <td>0</td>\n      <td>1100</td>\n      <td>0</td>\n      <td>829</td>\n      <td>9</td>\n      <td>125</td>\n      <td>0</td>\n      <td>56</td>\n      <td>48</td>\n      <td>0</td>\n      <td>1</td>\n      <td>0</td>\n      <td>0</td>\n      <td>0</td>\n    </tr>\n    <tr>\n      <th>3</th>\n      <td>0</td>\n      <td>3000</td>\n      <td>0</td>\n      <td>552</td>\n      <td>12</td>\n      <td>76</td>\n      <td>1</td>\n      <td>31</td>\n      <td>60</td>\n      <td>0</td>\n      <td>1</td>\n      <td>0</td>\n      <td>0</td>\n      <td>0</td>\n    </tr>\n    <tr>\n      <th>4</th>\n      <td>0</td>\n      <td>1000</td>\n      <td>0</td>\n      <td>809</td>\n      <td>12</td>\n      <td>111</td>\n      <td>0</td>\n      <td>24</td>\n      <td>7</td>\n      <td>0</td>\n      <td>1</td>\n      <td>1</td>\n      <td>0</td>\n      <td>0</td>\n    </tr>\n  </tbody>\n</table>\n</div>"
     },
     "execution_count": 7,
     "metadata": {},
     "output_type": "execute_result"
    }
   ],
   "source": [
    "# Aplicação no conjunto de treinamento\n",
    "data_train_new = pd.get_dummies(data = data_train,\n",
    "                                prefix='ESCT',\n",
    "                                columns=['ESCT'],\n",
    "                                drop_first=True)\n",
    "\n",
    "\"\"\"\n",
    "pd.get_dummies: Convert categorical variable into dummy/indicator variables.\n",
    "\"\"\"\n",
    "\n",
    "# Inspeção das primeiras linhas\n",
    "data_train_new.head()"
   ]
  },
  {
   "cell_type": "code",
   "execution_count": 8,
   "metadata": {
    "colab": {
     "base_uri": "https://localhost:8080/",
     "height": 206
    },
    "id": "hI9UgoSS_uCp",
    "outputId": "78846caa-8a1a-461f-bf84-12362ebb99ee",
    "pycharm": {
     "name": "#%%\n"
    }
   },
   "outputs": [
    {
     "data": {
      "text/plain": "   NDEP  RENDA  TIPOR  VBEM  NPARC  VPARC  TEL  IDADE  RESMS  ENTRADA  CLASSE  \\\n0     2    500      1   618     10     85    0     36      6        0       0   \n1     0    813      0   552      4    119    0     43     48      119       1   \n2     0    350      0   488     12     66    0     43      0        0       1   \n3     0   1530      0   381      1    398    0     28     48        0       1   \n4     0    688      1   396     10     60    0     49     72        0       1   \n\n   ESCT_1  ESCT_2  ESCT_3  \n0       0       0       0  \n1       1       0       0  \n2       0       0       1  \n3       1       0       0  \n4       0       0       0  ",
      "text/html": "<div>\n<style scoped>\n    .dataframe tbody tr th:only-of-type {\n        vertical-align: middle;\n    }\n\n    .dataframe tbody tr th {\n        vertical-align: top;\n    }\n\n    .dataframe thead th {\n        text-align: right;\n    }\n</style>\n<table border=\"1\" class=\"dataframe\">\n  <thead>\n    <tr style=\"text-align: right;\">\n      <th></th>\n      <th>NDEP</th>\n      <th>RENDA</th>\n      <th>TIPOR</th>\n      <th>VBEM</th>\n      <th>NPARC</th>\n      <th>VPARC</th>\n      <th>TEL</th>\n      <th>IDADE</th>\n      <th>RESMS</th>\n      <th>ENTRADA</th>\n      <th>CLASSE</th>\n      <th>ESCT_1</th>\n      <th>ESCT_2</th>\n      <th>ESCT_3</th>\n    </tr>\n  </thead>\n  <tbody>\n    <tr>\n      <th>0</th>\n      <td>2</td>\n      <td>500</td>\n      <td>1</td>\n      <td>618</td>\n      <td>10</td>\n      <td>85</td>\n      <td>0</td>\n      <td>36</td>\n      <td>6</td>\n      <td>0</td>\n      <td>0</td>\n      <td>0</td>\n      <td>0</td>\n      <td>0</td>\n    </tr>\n    <tr>\n      <th>1</th>\n      <td>0</td>\n      <td>813</td>\n      <td>0</td>\n      <td>552</td>\n      <td>4</td>\n      <td>119</td>\n      <td>0</td>\n      <td>43</td>\n      <td>48</td>\n      <td>119</td>\n      <td>1</td>\n      <td>1</td>\n      <td>0</td>\n      <td>0</td>\n    </tr>\n    <tr>\n      <th>2</th>\n      <td>0</td>\n      <td>350</td>\n      <td>0</td>\n      <td>488</td>\n      <td>12</td>\n      <td>66</td>\n      <td>0</td>\n      <td>43</td>\n      <td>0</td>\n      <td>0</td>\n      <td>1</td>\n      <td>0</td>\n      <td>0</td>\n      <td>1</td>\n    </tr>\n    <tr>\n      <th>3</th>\n      <td>0</td>\n      <td>1530</td>\n      <td>0</td>\n      <td>381</td>\n      <td>1</td>\n      <td>398</td>\n      <td>0</td>\n      <td>28</td>\n      <td>48</td>\n      <td>0</td>\n      <td>1</td>\n      <td>1</td>\n      <td>0</td>\n      <td>0</td>\n    </tr>\n    <tr>\n      <th>4</th>\n      <td>0</td>\n      <td>688</td>\n      <td>1</td>\n      <td>396</td>\n      <td>10</td>\n      <td>60</td>\n      <td>0</td>\n      <td>49</td>\n      <td>72</td>\n      <td>0</td>\n      <td>1</td>\n      <td>0</td>\n      <td>0</td>\n      <td>0</td>\n    </tr>\n  </tbody>\n</table>\n</div>"
     },
     "execution_count": 8,
     "metadata": {},
     "output_type": "execute_result"
    }
   ],
   "source": [
    "# Aplicação da transformação sobre o conjunto de teste\n",
    "data_test_new = pd.get_dummies(data = data_test, prefix='ESCT', columns=['ESCT'], drop_first=True)\n",
    "\n",
    "\"\"\"\n",
    "pd.get_dummies: Convert categorical variable into dummy/indicator variables\n",
    "\"\"\"\n",
    "\n",
    "# Inspeção das primeiras linhas\n",
    "data_test_new.head()"
   ]
  },
  {
   "cell_type": "markdown",
   "metadata": {
    "id": "yRkwEDzO91ZB",
    "pycharm": {
     "name": "#%% md\n"
    }
   },
   "source": [
    "**Separação do conjunto de dados em rótulo ($\\mathrm{y}$) e features ($\\mathrm{x}$)**\n",
    "\n",
    "O rótulo ($\\mathrm{y}$) corresponde ao vetor contendo a variável alvo (CLASSE), enquanto que features ($\\mathrm{x}$) corresponde à matriz de dados. É importante converter para vetor para que a partir dele criemos um tensor PyTorch. Não podemos fazer a conversão direta de um objeto pandas Dataframe para um tensor PyTorch."
   ]
  },
  {
   "cell_type": "code",
   "execution_count": 9,
   "metadata": {
    "colab": {
     "base_uri": "https://localhost:8080/"
    },
    "id": "mxKjqguU_uCr",
    "outputId": "266b50e8-4f29-4f25-db8f-68daa4eb7635",
    "pycharm": {
     "name": "#%%\n"
    }
   },
   "outputs": [],
   "source": [
    "# Transformação da variável alvo do conjunto de treinamento e teste em vetor\n",
    "y_train = np.array(data_train_new['CLASSE'])\n",
    "y_test = np.array(data_test_new['CLASSE'])"
   ]
  },
  {
   "cell_type": "code",
   "execution_count": 10,
   "metadata": {
    "colab": {
     "base_uri": "https://localhost:8080/"
    },
    "id": "9bIZH23c_uCt",
    "outputId": "ae01665d-672f-410a-f763-d90ed76e532a",
    "pycharm": {
     "name": "#%%\n"
    }
   },
   "outputs": [
    {
     "data": {
      "text/plain": "array([0, 1, 1, 1, 1], dtype=int64)"
     },
     "execution_count": 10,
     "metadata": {},
     "output_type": "execute_result"
    }
   ],
   "source": [
    "# Transformação da variável alvo do conjunto de teste em vetor\n",
    "\n",
    "# Inspeção das primeiras linhas\n",
    "y_test[:5]"
   ]
  },
  {
   "cell_type": "code",
   "execution_count": 11,
   "metadata": {
    "colab": {
     "base_uri": "https://localhost:8080/"
    },
    "id": "J7YkPky3_uCv",
    "outputId": "5bfae601-31f6-4761-af8f-889bf783d7a4",
    "pycharm": {
     "name": "#%%\n"
    }
   },
   "outputs": [
    {
     "data": {
      "text/plain": "dtype('float64')"
     },
     "execution_count": 11,
     "metadata": {},
     "output_type": "execute_result"
    }
   ],
   "source": [
    "# Transformação do conjunto de treinamento remanescente em matriz de dados\n",
    "features_name_train = list(data_train_new.columns)               # nomes das colunas\n",
    "features_name_train.remove('CLASSE')                             # remove variável \"CLASSE\"\n",
    "X_train = np.array(data_train_new.loc[:, features_name_train])   # Transformação em matriz de dados\n",
    "X_train = X_train.astype(float)\n",
    "X_train.dtype"
   ]
  },
  {
   "cell_type": "code",
   "execution_count": 12,
   "metadata": {
    "colab": {
     "base_uri": "https://localhost:8080/"
    },
    "id": "NHUkgOgeKL7O",
    "outputId": "1e3ec2b8-cda3-47af-d365-8bb17d17d2f6",
    "pycharm": {
     "name": "#%%\n"
    }
   },
   "outputs": [
    {
     "data": {
      "text/plain": "array([[0.00e+00, 3.60e+02, 0.00e+00, ..., 1.00e+00, 0.00e+00, 0.00e+00],\n       [0.00e+00, 3.50e+02, 1.00e+00, ..., 0.00e+00, 0.00e+00, 0.00e+00],\n       [0.00e+00, 1.10e+03, 0.00e+00, ..., 0.00e+00, 0.00e+00, 0.00e+00],\n       ...,\n       [0.00e+00, 5.70e+02, 0.00e+00, ..., 0.00e+00, 0.00e+00, 0.00e+00],\n       [0.00e+00, 3.60e+02, 0.00e+00, ..., 0.00e+00, 0.00e+00, 0.00e+00],\n       [4.00e+00, 5.01e+02, 1.00e+00, ..., 0.00e+00, 0.00e+00, 0.00e+00]])"
     },
     "execution_count": 12,
     "metadata": {},
     "output_type": "execute_result"
    }
   ],
   "source": [
    "# Inspeção da matriz resultante\n",
    "X_train"
   ]
  },
  {
   "cell_type": "code",
   "execution_count": 13,
   "metadata": {
    "id": "Zl5JbSo2_uCw",
    "pycharm": {
     "name": "#%%\n"
    }
   },
   "outputs": [],
   "source": [
    "# Transformação do conjunto de teste remanescente em matriz de dados\n",
    "features_name_test = list(data_test_new.columns)               # Nomes das colunas\n",
    "features_name_test.remove('CLASSE')                            # Remoção da variável \"CLASSE\"\n",
    "X_test = np.array(data_test_new.loc[:, features_name_test])    # Transformação em matriz\n",
    "X_test = X_test.astype(float)"
   ]
  },
  {
   "cell_type": "code",
   "execution_count": 14,
   "metadata": {
    "colab": {
     "base_uri": "https://localhost:8080/"
    },
    "id": "DQsPQ6LrKA7c",
    "outputId": "cc42c679-7a34-4006-fd8e-c365b505fd61",
    "pycharm": {
     "name": "#%%\n"
    }
   },
   "outputs": [
    {
     "data": {
      "text/plain": "array([[2.00e+00, 5.00e+02, 1.00e+00, ..., 0.00e+00, 0.00e+00, 0.00e+00],\n       [0.00e+00, 8.13e+02, 0.00e+00, ..., 1.00e+00, 0.00e+00, 0.00e+00],\n       [0.00e+00, 3.50e+02, 0.00e+00, ..., 0.00e+00, 0.00e+00, 1.00e+00],\n       ...,\n       [3.00e+00, 1.20e+03, 0.00e+00, ..., 0.00e+00, 0.00e+00, 0.00e+00],\n       [0.00e+00, 6.00e+02, 0.00e+00, ..., 1.00e+00, 0.00e+00, 0.00e+00],\n       [0.00e+00, 8.00e+02, 1.00e+00, ..., 0.00e+00, 0.00e+00, 0.00e+00]])"
     },
     "execution_count": 14,
     "metadata": {},
     "output_type": "execute_result"
    }
   ],
   "source": [
    "# Inspeção da matriz resultante\n",
    "X_test"
   ]
  },
  {
   "cell_type": "markdown",
   "metadata": {
    "id": "Rd9a5XDvDmso",
    "pycharm": {
     "name": "#%% md\n"
    }
   },
   "source": [
    "### Normalização das features\n",
    "\n",
    "Antes de iniciar o treinamento, é também necessário realizar a *normalização* das características a fim de evitar eventuais problemas decorrentes à discrepância nas ordens de grandeza das features."
   ]
  },
  {
   "cell_type": "code",
   "execution_count": 15,
   "metadata": {
    "id": "CNkkpj63EedQ",
    "pycharm": {
     "name": "#%%\n"
    }
   },
   "outputs": [],
   "source": [
    "# Criação do objeto para a padronização das features\n",
    "scaler = StandardScaler()\n",
    "\n",
    "# Ajustamento do StandardScaler ao conjunto de dados de treino e padronização dos dados de treino\n",
    "X_train = scaler.fit_transform(X_train)\n",
    "\n",
    "# Transformação dos dados de teste com os parâmetros ajustados a partir dos dados de treino\n",
    "X_test = scaler.transform(X_test)"
   ]
  },
  {
   "cell_type": "code",
   "execution_count": 16,
   "metadata": {
    "colab": {
     "base_uri": "https://localhost:8080/"
    },
    "id": "RazjkSXbe336",
    "outputId": "b585da64-31fc-47fe-ecd2-2b26b71bc822",
    "pycharm": {
     "name": "#%%\n"
    }
   },
   "outputs": [
    {
     "name": "stdout",
     "output_type": "stream",
     "text": [
      "(1500, 13) (577, 13) (1500,) (577,)\n"
     ]
    }
   ],
   "source": [
    "# Dimensões dos datasets\n",
    "print(X_train.shape, X_test.shape, y_train.shape, y_test.shape)"
   ]
  },
  {
   "cell_type": "markdown",
   "metadata": {
    "id": "XIe5k4w4kA-B",
    "pycharm": {
     "name": "#%% md\n"
    }
   },
   "source": [
    "## Treinamento do modelo"
   ]
  },
  {
   "cell_type": "code",
   "execution_count": 21,
   "metadata": {
    "pycharm": {
     "name": "#%%\n"
    }
   },
   "outputs": [
    {
     "data": {
      "text/plain": "DecisionTreeClassifier()",
      "text/html": "<style>#sk-container-id-2 {color: black;background-color: white;}#sk-container-id-2 pre{padding: 0;}#sk-container-id-2 div.sk-toggleable {background-color: white;}#sk-container-id-2 label.sk-toggleable__label {cursor: pointer;display: block;width: 100%;margin-bottom: 0;padding: 0.3em;box-sizing: border-box;text-align: center;}#sk-container-id-2 label.sk-toggleable__label-arrow:before {content: \"▸\";float: left;margin-right: 0.25em;color: #696969;}#sk-container-id-2 label.sk-toggleable__label-arrow:hover:before {color: black;}#sk-container-id-2 div.sk-estimator:hover label.sk-toggleable__label-arrow:before {color: black;}#sk-container-id-2 div.sk-toggleable__content {max-height: 0;max-width: 0;overflow: hidden;text-align: left;background-color: #f0f8ff;}#sk-container-id-2 div.sk-toggleable__content pre {margin: 0.2em;color: black;border-radius: 0.25em;background-color: #f0f8ff;}#sk-container-id-2 input.sk-toggleable__control:checked~div.sk-toggleable__content {max-height: 200px;max-width: 100%;overflow: auto;}#sk-container-id-2 input.sk-toggleable__control:checked~label.sk-toggleable__label-arrow:before {content: \"▾\";}#sk-container-id-2 div.sk-estimator input.sk-toggleable__control:checked~label.sk-toggleable__label {background-color: #d4ebff;}#sk-container-id-2 div.sk-label input.sk-toggleable__control:checked~label.sk-toggleable__label {background-color: #d4ebff;}#sk-container-id-2 input.sk-hidden--visually {border: 0;clip: rect(1px 1px 1px 1px);clip: rect(1px, 1px, 1px, 1px);height: 1px;margin: -1px;overflow: hidden;padding: 0;position: absolute;width: 1px;}#sk-container-id-2 div.sk-estimator {font-family: monospace;background-color: #f0f8ff;border: 1px dotted black;border-radius: 0.25em;box-sizing: border-box;margin-bottom: 0.5em;}#sk-container-id-2 div.sk-estimator:hover {background-color: #d4ebff;}#sk-container-id-2 div.sk-parallel-item::after {content: \"\";width: 100%;border-bottom: 1px solid gray;flex-grow: 1;}#sk-container-id-2 div.sk-label:hover label.sk-toggleable__label {background-color: #d4ebff;}#sk-container-id-2 div.sk-serial::before {content: \"\";position: absolute;border-left: 1px solid gray;box-sizing: border-box;top: 0;bottom: 0;left: 50%;z-index: 0;}#sk-container-id-2 div.sk-serial {display: flex;flex-direction: column;align-items: center;background-color: white;padding-right: 0.2em;padding-left: 0.2em;position: relative;}#sk-container-id-2 div.sk-item {position: relative;z-index: 1;}#sk-container-id-2 div.sk-parallel {display: flex;align-items: stretch;justify-content: center;background-color: white;position: relative;}#sk-container-id-2 div.sk-item::before, #sk-container-id-2 div.sk-parallel-item::before {content: \"\";position: absolute;border-left: 1px solid gray;box-sizing: border-box;top: 0;bottom: 0;left: 50%;z-index: -1;}#sk-container-id-2 div.sk-parallel-item {display: flex;flex-direction: column;z-index: 1;position: relative;background-color: white;}#sk-container-id-2 div.sk-parallel-item:first-child::after {align-self: flex-end;width: 50%;}#sk-container-id-2 div.sk-parallel-item:last-child::after {align-self: flex-start;width: 50%;}#sk-container-id-2 div.sk-parallel-item:only-child::after {width: 0;}#sk-container-id-2 div.sk-dashed-wrapped {border: 1px dashed gray;margin: 0 0.4em 0.5em 0.4em;box-sizing: border-box;padding-bottom: 0.4em;background-color: white;}#sk-container-id-2 div.sk-label label {font-family: monospace;font-weight: bold;display: inline-block;line-height: 1.2em;}#sk-container-id-2 div.sk-label-container {text-align: center;}#sk-container-id-2 div.sk-container {/* jupyter's `normalize.less` sets `[hidden] { display: none; }` but bootstrap.min.css set `[hidden] { display: none !important; }` so we also need the `!important` here to be able to override the default hidden behavior on the sphinx rendered scikit-learn.org. See: https://github.com/scikit-learn/scikit-learn/issues/21755 */display: inline-block !important;position: relative;}#sk-container-id-2 div.sk-text-repr-fallback {display: none;}</style><div id=\"sk-container-id-2\" class=\"sk-top-container\"><div class=\"sk-text-repr-fallback\"><pre>DecisionTreeClassifier()</pre><b>In a Jupyter environment, please rerun this cell to show the HTML representation or trust the notebook. <br />On GitHub, the HTML representation is unable to render, please try loading this page with nbviewer.org.</b></div><div class=\"sk-container\" hidden><div class=\"sk-item\"><div class=\"sk-estimator sk-toggleable\"><input class=\"sk-toggleable__control sk-hidden--visually\" id=\"sk-estimator-id-2\" type=\"checkbox\" checked><label for=\"sk-estimator-id-2\" class=\"sk-toggleable__label sk-toggleable__label-arrow\">DecisionTreeClassifier</label><div class=\"sk-toggleable__content\"><pre>DecisionTreeClassifier()</pre></div></div></div></div></div>"
     },
     "execution_count": 21,
     "metadata": {},
     "output_type": "execute_result"
    }
   ],
   "source": [
    "from xgboost import XGBClassifier\n",
    "xgb_classifier = XGBClassifier()\n",
    "xgb_classifier.fit(X_train, y_train)"
   ]
  },
  {
   "cell_type": "markdown",
   "metadata": {
    "id": "5T9JwxRikHKh",
    "pycharm": {
     "name": "#%% md\n"
    }
   },
   "source": [
    "## Validação do modelo\n",
    "\n",
    "As métricas para validação que usamos aqui são as seguintes:\n",
    "\n",
    "* *precision* é o percentual de valores previstos como positivos que realmente são positivos (1 - cliente pagar o empréstimo), em relação ao total de previsões (soma dos verdadeiros e falsos positivos). Temos essa medida também relacionada ao valor 0 da variável alvo, com definição análoga. Essa medida consiste basicamente em identificar a proporção de previsões corretas do modelo, em relação ao total de previsões realizadas.\n",
    "\n",
    "* *recall* consiste no seguinte: Dentre todos os exemplos da classe 1, que proporção o modelo acertou. A definição é análoga para os exemplos da classe 0. Essa medida consiste na capacidade do modelo prever um determinado valor do alvo, i.e., o quanto ele é capaz de prever 0, e o quanto ele é capaz de prever 1.\n",
    "\n",
    "* f1-score é a média harmônica entre o recall e a precision.\n",
    "\n",
    "* *support* é a quantidade de ocorrências de exemplos de uma dada classe. Um desequilibrio nos valores indicados podem nos mostrar que as medidas de avaliação ainda estão fracas. Não é o caso, então as medidas estão confiáveis. Porém, se fosse o caso, talvez fosse necessária uma amostragem estratificada, ou um rebalanceamento nos dados. O suporte funciona como um diagnóstico para a avaliação."
   ]
  },
  {
   "cell_type": "code",
   "execution_count": 23,
   "metadata": {
    "colab": {
     "base_uri": "https://localhost:8080/"
    },
    "id": "StsnYq1NAsuA",
    "outputId": "2f46c1d0-7f20-4678-a078-8dbe6622f954",
    "pycharm": {
     "name": "#%%\n"
    }
   },
   "outputs": [
    {
     "name": "stdout",
     "output_type": "stream",
     "text": [
      "              precision    recall  f1-score   support\n",
      "\n",
      "           0       0.88      0.85      0.87       306\n",
      "           1       0.84      0.87      0.86       271\n",
      "\n",
      "    accuracy                           0.86       577\n",
      "   macro avg       0.86      0.86      0.86       577\n",
      "weighted avg       0.86      0.86      0.86       577\n",
      "\n"
     ]
    }
   ],
   "source": [
    "target_names = ['0', '1']\n",
    "\n",
    "y_pred = xgb_classifier.predict(X_test)\n",
    "\n",
    "print(classification_report(y_test, y_pred, target_names=target_names))"
   ]
  },
  {
   "cell_type": "markdown",
   "metadata": {
    "id": "dD9BaLSeWuMu",
    "pycharm": {
     "name": "#%% md\n"
    }
   },
   "source": [
    "#### Matriz de confusão\n",
    "\n",
    "A matriz de confusão nos ajuda a ver a proporção entre erros e acertos. Os rótulos \"0\" e \"1\" na \"margem\" inferior da matriz são os valores previstos em cada caso. Da mesma forma, os rótulos na margem esquerda indicam a resposta correta.\n",
    "\n",
    "A diagonal principal, que está colorida em tons de roxo, indica o percentual de previsões corretas para cada classe.\n",
    "\n",
    "A diagonal mais clara indica o percentual de erros para cada classe.\n",
    "\n",
    "Podemos ver que os percentuais de acertos para cada classe são maiores em relação aos percentuais de erro. Isso é um indicativo de que os parâmetros do modelo foram ajustados corretamente durante o aprendizado."
   ]
  },
  {
   "cell_type": "code",
   "execution_count": 20,
   "metadata": {
    "colab": {
     "base_uri": "https://localhost:8080/",
     "height": 282
    },
    "id": "vXHRtBM_Hhzk",
    "outputId": "da9f707b-b586-409c-dba0-41633fb09722",
    "pycharm": {
     "name": "#%%\n"
    }
   },
   "outputs": [
    {
     "data": {
      "text/plain": "<AxesSubplot: >"
     },
     "execution_count": 20,
     "metadata": {},
     "output_type": "execute_result"
    },
    {
     "data": {
      "text/plain": "<Figure size 640x480 with 2 Axes>",
      "image/png": "[encoded data removed]"
     },
     "metadata": {},
     "output_type": "display_data"
    }
   ],
   "source": [
    "cm = confusion_matrix(y_test, y_pred)\n",
    "sns.heatmap(cm/np.sum(cm), annot=True, fmt='.2%', cmap='Purples')"
   ]
  },
  {
   "cell_type": "markdown",
   "metadata": {
    "id": "Niw6wHrljjV2",
    "pycharm": {
     "name": "#%% md\n"
    }
   },
   "source": [
    " # Predição de preços de diamantes"
   ]
  },
  {
   "cell_type": "markdown",
   "metadata": {
    "id": "ONbiiXLbq1tA",
    "pycharm": {
     "name": "#%% md\n"
    }
   },
   "source": [
    "## Carga e inspeção dos dados"
   ]
  },
  {
   "cell_type": "code",
   "execution_count": null,
   "metadata": {
    "colab": {
     "base_uri": "https://localhost:8080/",
     "height": 206
    },
    "id": "LmBHvO2Cq08F",
    "outputId": "aed4ca00-c5ea-4681-9368-89e7aa10ef0f",
    "pycharm": {
     "name": "#%%\n"
    }
   },
   "outputs": [],
   "source": [
    "df_diamonds = pd.read_csv(\"diamonds.csv\")\n",
    "df_diamonds.head()"
   ]
  },
  {
   "cell_type": "code",
   "execution_count": null,
   "metadata": {
    "colab": {
     "base_uri": "https://localhost:8080/",
     "height": 206
    },
    "id": "3fFyj5hrjdNj",
    "outputId": "70d8a073-5700-453b-b6f4-de512c00d630",
    "pycharm": {
     "name": "#%%\n"
    }
   },
   "outputs": [],
   "source": [
    "df_diamonds = df_diamonds.drop([\"Unnamed: 0\"],axis=1)\n",
    "df_diamonds.head()"
   ]
  },
  {
   "cell_type": "code",
   "execution_count": null,
   "metadata": {
    "colab": {
     "base_uri": "https://localhost:8080/"
    },
    "id": "bNlWXA-Ew-Fp",
    "outputId": "78760092-2bc4-4877-e0fd-30dde35cccc1",
    "pycharm": {
     "name": "#%%\n"
    }
   },
   "outputs": [],
   "source": [
    "colnames = [column for column in df_diamonds.columns]\n",
    "colnames"
   ]
  },
  {
   "cell_type": "markdown",
   "metadata": {
    "id": "iEp9JWGCqMkm",
    "pycharm": {
     "name": "#%% md\n"
    }
   },
   "source": [
    "## Pré-processamento dos dados"
   ]
  },
  {
   "cell_type": "markdown",
   "metadata": {
    "id": "zaDmhfaxze1I",
    "pycharm": {
     "name": "#%% md\n"
    }
   },
   "source": [
    "Esta etapa é muito importante, uma má execução desta etapa pode causar problemas no treino.\n",
    "\n",
    "Aqui, verificamos os valores presentes em colunas que sabemos que se tratam de dados categóricos. Então é necessário pensar se estes dados são *nominais* (valor que indica categoria, sem levar em consideração um \"ranking\") ou *ordinais* (valor que indica categoria, mas que carrega uma relação de ordem com demais valores presentes).\n",
    "\n",
    "Podemos ver que os dados são ordinais. Podemos ver que há valores para os quais vai haver um corte, cor ou claridade do diamante que vai ser ideal ou não, então isso é modelado na codificação."
   ]
  },
  {
   "cell_type": "code",
   "execution_count": null,
   "metadata": {
    "colab": {
     "base_uri": "https://localhost:8080/"
    },
    "id": "EFlIjNSvyzP8",
    "outputId": "7faff315-0eab-432a-9aae-e01a53dfc484",
    "pycharm": {
     "name": "#%%\n"
    }
   },
   "outputs": [],
   "source": [
    "print(df_diamonds['cut'].unique())\n",
    "print(df_diamonds['color'].unique())\n",
    "print(df_diamonds['clarity'].unique())"
   ]
  },
  {
   "cell_type": "code",
   "execution_count": null,
   "metadata": {
    "id": "ZiCQo36xzUCh",
    "pycharm": {
     "name": "#%%\n"
    }
   },
   "outputs": [],
   "source": [
    "df_diamonds['cut'].replace({'Fair': 1, 'Good': 2, 'Very Good': 3, 'Premium': 4, 'Ideal': 5}, inplace=True)\n",
    "df_diamonds['color'].replace({'J': 1, 'I': 2, 'H': 3, 'G': 4, 'F': 5, 'E': 6, 'D': 7}, inplace=True)\n",
    "df_diamonds['clarity'].replace({'I1': 1, 'SI2': 2, 'SI1': 3, 'VS2': 4, 'VS1': 5, 'VVS2': 6, 'VVS1': 7, 'IF': 8}, inplace=True)"
   ]
  },
  {
   "cell_type": "code",
   "execution_count": null,
   "metadata": {
    "colab": {
     "base_uri": "https://localhost:8080/"
    },
    "id": "Oa6IbZ6I1CBq",
    "outputId": "6200c9a8-d753-45d1-d3f3-33ae89061821",
    "pycharm": {
     "name": "#%%\n"
    }
   },
   "outputs": [],
   "source": [
    "print(df_diamonds['cut'].unique())\n",
    "print(df_diamonds['color'].unique())\n",
    "print(df_diamonds['clarity'].unique())"
   ]
  },
  {
   "cell_type": "code",
   "execution_count": null,
   "metadata": {
    "colab": {
     "base_uri": "https://localhost:8080/",
     "height": 206
    },
    "id": "dHT6VjXR1Ji8",
    "outputId": "546f7208-d79b-4734-eb8f-92123fb28908",
    "pycharm": {
     "name": "#%%\n"
    }
   },
   "outputs": [],
   "source": [
    "df_diamonds.head()"
   ]
  },
  {
   "cell_type": "code",
   "execution_count": null,
   "metadata": {
    "colab": {
     "base_uri": "https://localhost:8080/"
    },
    "id": "9t7KmrCakSpa",
    "outputId": "9732b5e5-f1ef-4a15-d4b0-f4dea62fe6cb",
    "pycharm": {
     "name": "#%%\n"
    }
   },
   "outputs": [],
   "source": [
    "# Divisão entre treino e teste\n",
    "X = df_diamonds.drop(['price'], 1)\n",
    "y = df_diamonds['price']\n",
    "\n",
    "X_train, X_test, y_train, y_test = train_test_split(X, y, test_size = 0.2)"
   ]
  },
  {
   "cell_type": "markdown",
   "metadata": {
    "id": "1SsLaEAQEXoe",
    "pycharm": {
     "name": "#%% md\n"
    }
   },
   "source": [
    "#### Normalização das features\n",
    "É importante normalizarmos as features para equilibrar as suas ordens de grandeza, para os mesmos serem processados na etapa de treino. Isso é feito porque a existência de discrepâncias entres essas orders de grandeza prejudica o ajuste dos modelos em alguns algoritmo de aprendizado.\n",
    "\n",
    "É também importante entender que o ajuste do *scaler* deve ser feito apenas sobre o conjunto de treino,\n",
    "para evitar que haja vazamento de dados (fenômeno conhecido como [data leakage](https://en.wikipedia.org/wiki/Leakage_(machine_learning))."
   ]
  },
  {
   "cell_type": "code",
   "execution_count": null,
   "metadata": {
    "id": "fsEAXR1NEVIx",
    "pycharm": {
     "name": "#%%\n"
    }
   },
   "outputs": [],
   "source": [
    "scaler = StandardScaler()\n",
    "X_train = scaler.fit_transform(X_train)\n",
    "X_test = scaler.transform(X_test)"
   ]
  },
  {
   "cell_type": "markdown",
   "metadata": {
    "id": "Zya3l1LOGSiR",
    "pycharm": {
     "name": "#%% md\n"
    }
   },
   "source": [
    "Dimensões dos datasets"
   ]
  },
  {
   "cell_type": "code",
   "execution_count": null,
   "metadata": {
    "colab": {
     "base_uri": "https://localhost:8080/"
    },
    "id": "WftSreo5FG94",
    "outputId": "6cf6b170-6537-412d-9209-bfbf9ef755e7",
    "pycharm": {
     "name": "#%%\n"
    }
   },
   "outputs": [],
   "source": [
    "print(X_train.shape)\n",
    "print(y_train.shape)\n",
    "print(X_test.shape)\n",
    "print(y_test.shape)"
   ]
  },
  {
   "cell_type": "markdown",
   "metadata": {
    "id": "XIQ-Z9WtqOtt",
    "pycharm": {
     "name": "#%% md\n"
    }
   },
   "source": [
    "## Treinamento do modelo"
   ]
  },
  {
   "cell_type": "code",
   "execution_count": null,
   "metadata": {
    "pycharm": {
     "name": "#%%\n"
    }
   },
   "outputs": [],
   "source": [
    "from sklearn.model_selection import cross_val_score\n",
    "cv_score = cross_val_score(xgb_regressor, X_train, y_train, scoring=\"neg_root_mean_squared_error\", cv=12)\n",
    "print(\"XGBoostRegressor (cv12): %f \" % (-1 * cv_score.mean()))"
   ]
  },
  {
   "cell_type": "markdown",
   "metadata": {
    "id": "e5p1O5qXqYf0",
    "pycharm": {
     "name": "#%% md\n"
    }
   },
   "source": [
    "## Validação do modelo"
   ]
  },
  {
   "cell_type": "markdown",
   "metadata": {
    "id": "9rMQs-FqOyjs",
    "pycharm": {
     "name": "#%% md\n"
    }
   },
   "source": [
    "Definimos a função de custo como sendo a MSE, cujo propósito é calcular o erro médio entre os valores corretos de target no conjunto de treino e os valores previstos pela rede nesta etapa.\n",
    "\n",
    "Para validar o modelo treinado, utilizamos a métrica de avaliação conhecida como [coeficiente de determinação](https://en.wikipedia.org/wiki/Coefficient_of_determination), denotada por $R^2$. O cálculo dessa métrica é descrito a seguir.\n",
    "\n",
    "Digamos que tenhamos um modelo que seja um gráfico no plano que representa a média dos valores de target, e tenhamos a distribuição dos dados. Então podemos calcular o erro entre este modelo e cada ponto de dados, e elevar ao quadrado, e somar estes erros. Esta soma é chamada de **soma dos quadrados totais** ($SQ_t$).\n",
    "\n",
    "Agora, suponha que tenhamos o modelo treinado. Calculamos o resíduo, que é o erro do modelo em relação a cada exemplo elevado ao quadrado. Em seguida, somamos todos os desvios. Essa soma é chamada de **soma dos quadrados dos resíduos** (SQ${_r}$).\n",
    "\n",
    "Para computar o $R^2$, fazemos:\n",
    "$$\n",
    "R^2 = \\frac{(SQ_t - SQ_r)}{SQ_t}\n",
    "$$\n",
    "Onde o $SQ_t$ vai realizar uma normalização para que o resultado esteja num escala de 0 até 1.\n",
    "\n",
    "O valor de $R^2$ pode ser interpretado como a qualidade preditiva do modelo treinado em comparação com um modelo que prediz simplesmente a média dos valores alvo."
   ]
  },
  {
   "cell_type": "code",
   "execution_count": null,
   "metadata": {
    "pycharm": {
     "name": "#%%\n"
    }
   },
   "outputs": [],
   "source": [
    "from sklearn import metrics\n",
    "\n",
    "# Model prediction on test data with XGBClassifier which gave us the least RMSE\n",
    "y_pred = xgb_regressor.predict(X_test)\n",
    "print(\"R^2:\", metrics.r2_score(y_test, y_pred))"
   ]
  },
  {
   "cell_type": "markdown",
   "metadata": {
    "pycharm": {
     "name": "#%% md\n"
    }
   },
   "source": [
    "O resultado acima indica que o modelo foi corretamente ajustado."
   ]
  }
 ],
 "metadata": {
  "accelerator": "GPU",
  "colab": {
   "collapsed_sections": [],
   "name": "DL_T1_vitoria.ipynb",
   "provenance": []
  },
  "kernelspec": {
   "display_name": "Python 3",
   "language": "python",
   "name": "python3"
  },
  "language_info": {
   "codemirror_mode": {
    "name": "ipython",
    "version": 3
   },
   "file_extension": ".py",
   "mimetype": "text/x-python",
   "name": "python",
   "nbconvert_exporter": "python",
   "pygments_lexer": "ipython3",
   "version": "3.8.5"
  },
  "widgets": {
   "application/vnd.jupyter.widget-state+json": {
    "07c5218a1521403fb99dc4622e94df36": {
     "model_module": "@jupyter-widgets/controls",
     "model_module_version": "1.5.0",
     "model_name": "DescriptionStyleModel",
     "state": {
      "_model_module": "@jupyter-widgets/controls",
      "_model_module_version": "1.5.0",
      "_model_name": "DescriptionStyleModel",
      "_view_count": null,
      "_view_module": "@jupyter-widgets/base",
      "_view_module_version": "1.2.0",
      "_view_name": "StyleView",
      "description_width": ""
     }
    },
    "0b6b93e7bf804aaca06a3dcb5fb6e2c7": {
     "model_module": "@jupyter-widgets/controls",
     "model_module_version": "1.5.0",
     "model_name": "DescriptionStyleModel",
     "state": {
      "_model_module": "@jupyter-widgets/controls",
      "_model_module_version": "1.5.0",
      "_model_name": "DescriptionStyleModel",
      "_view_count": null,
      "_view_module": "@jupyter-widgets/base",
      "_view_module_version": "1.2.0",
      "_view_name": "StyleView",
      "description_width": ""
     }
    },
    "0ca4cf6b36e7440681e37c688a315e4d": {
     "model_module": "@jupyter-widgets/controls",
     "model_module_version": "1.5.0",
     "model_name": "DescriptionStyleModel",
     "state": {
      "_model_module": "@jupyter-widgets/controls",
      "_model_module_version": "1.5.0",
      "_model_name": "DescriptionStyleModel",
      "_view_count": null,
      "_view_module": "@jupyter-widgets/base",
      "_view_module_version": "1.2.0",
      "_view_name": "StyleView",
      "description_width": ""
     }
    },
    "11b69805727c424b97d62a02fd379f6b": {
     "model_module": "@jupyter-widgets/controls",
     "model_module_version": "1.5.0",
     "model_name": "HBoxModel",
     "state": {
      "_dom_classes": [],
      "_model_module": "@jupyter-widgets/controls",
      "_model_module_version": "1.5.0",
      "_model_name": "HBoxModel",
      "_view_count": null,
      "_view_module": "@jupyter-widgets/controls",
      "_view_module_version": "1.5.0",
      "_view_name": "HBoxView",
      "box_style": "",
      "children": [
       "IPY_MODEL_2c8d82e5be8447ee8df025986a8b4245",
       "IPY_MODEL_4748ca66fafb44a6bdde00d324e37105",
       "IPY_MODEL_c34bb3d5f85649718df7c112d099140a"
      ],
      "layout": "IPY_MODEL_a4900a51d0044b2fadabf80e0adb5f04"
     }
    },
    "13376305616b4ee4967b964ce07d7e2b": {
     "model_module": "@jupyter-widgets/controls",
     "model_module_version": "1.5.0",
     "model_name": "HTMLModel",
     "state": {
      "_dom_classes": [],
      "_model_module": "@jupyter-widgets/controls",
      "_model_module_version": "1.5.0",
      "_model_name": "HTMLModel",
      "_view_count": null,
      "_view_module": "@jupyter-widgets/controls",
      "_view_module_version": "1.5.0",
      "_view_name": "HTMLView",
      "description": "",
      "description_tooltip": null,
      "layout": "IPY_MODEL_d799a20689ab489297c8f9e1b5c01618",
      "placeholder": "​",
      "style": "IPY_MODEL_0b6b93e7bf804aaca06a3dcb5fb6e2c7",
      "value": " 29696/? [00:00&lt;00:00, 8111.82it/s]"
     }
    },
    "14d3df6cf7c54a8493e10ad2f4a4a411": {
     "model_module": "@jupyter-widgets/controls",
     "model_module_version": "1.5.0",
     "model_name": "ProgressStyleModel",
     "state": {
      "_model_module": "@jupyter-widgets/controls",
      "_model_module_version": "1.5.0",
      "_model_name": "ProgressStyleModel",
      "_view_count": null,
      "_view_module": "@jupyter-widgets/base",
      "_view_module_version": "1.2.0",
      "_view_name": "StyleView",
      "bar_color": null,
      "description_width": ""
     }
    },
    "1623546aa2994016808369d2c9312820": {
     "model_module": "@jupyter-widgets/controls",
     "model_module_version": "1.5.0",
     "model_name": "DescriptionStyleModel",
     "state": {
      "_model_module": "@jupyter-widgets/controls",
      "_model_module_version": "1.5.0",
      "_model_name": "DescriptionStyleModel",
      "_view_count": null,
      "_view_module": "@jupyter-widgets/base",
      "_view_module_version": "1.2.0",
      "_view_name": "StyleView",
      "description_width": ""
     }
    },
    "1b8649d26b424af3838668102792fc47": {
     "model_module": "@jupyter-widgets/base",
     "model_module_version": "1.2.0",
     "model_name": "LayoutModel",
     "state": {
      "_model_module": "@jupyter-widgets/base",
      "_model_module_version": "1.2.0",
      "_model_name": "LayoutModel",
      "_view_count": null,
      "_view_module": "@jupyter-widgets/base",
      "_view_module_version": "1.2.0",
      "_view_name": "LayoutView",
      "align_content": null,
      "align_items": null,
      "align_self": null,
      "border": null,
      "bottom": null,
      "display": null,
      "flex": null,
      "flex_flow": null,
      "grid_area": null,
      "grid_auto_columns": null,
      "grid_auto_flow": null,
      "grid_auto_rows": null,
      "grid_column": null,
      "grid_gap": null,
      "grid_row": null,
      "grid_template_areas": null,
      "grid_template_columns": null,
      "grid_template_rows": null,
      "height": null,
      "justify_content": null,
      "justify_items": null,
      "left": null,
      "margin": null,
      "max_height": null,
      "max_width": null,
      "min_height": null,
      "min_width": null,
      "object_fit": null,
      "object_position": null,
      "order": null,
      "overflow": null,
      "overflow_x": null,
      "overflow_y": null,
      "padding": null,
      "right": null,
      "top": null,
      "visibility": null,
      "width": null
     }
    },
    "25ec3750598d444b905bdff3c9c211a9": {
     "model_module": "@jupyter-widgets/base",
     "model_module_version": "1.2.0",
     "model_name": "LayoutModel",
     "state": {
      "_model_module": "@jupyter-widgets/base",
      "_model_module_version": "1.2.0",
      "_model_name": "LayoutModel",
      "_view_count": null,
      "_view_module": "@jupyter-widgets/base",
      "_view_module_version": "1.2.0",
      "_view_name": "LayoutView",
      "align_content": null,
      "align_items": null,
      "align_self": null,
      "border": null,
      "bottom": null,
      "display": null,
      "flex": null,
      "flex_flow": null,
      "grid_area": null,
      "grid_auto_columns": null,
      "grid_auto_flow": null,
      "grid_auto_rows": null,
      "grid_column": null,
      "grid_gap": null,
      "grid_row": null,
      "grid_template_areas": null,
      "grid_template_columns": null,
      "grid_template_rows": null,
      "height": null,
      "justify_content": null,
      "justify_items": null,
      "left": null,
      "margin": null,
      "max_height": null,
      "max_width": null,
      "min_height": null,
      "min_width": null,
      "object_fit": null,
      "object_position": null,
      "order": null,
      "overflow": null,
      "overflow_x": null,
      "overflow_y": null,
      "padding": null,
      "right": null,
      "top": null,
      "visibility": null,
      "width": null
     }
    },
    "29d26874c47b426d86a90277cc9fbf2f": {
     "model_module": "@jupyter-widgets/controls",
     "model_module_version": "1.5.0",
     "model_name": "DescriptionStyleModel",
     "state": {
      "_model_module": "@jupyter-widgets/controls",
      "_model_module_version": "1.5.0",
      "_model_name": "DescriptionStyleModel",
      "_view_count": null,
      "_view_module": "@jupyter-widgets/base",
      "_view_module_version": "1.2.0",
      "_view_name": "StyleView",
      "description_width": ""
     }
    },
    "2c8d82e5be8447ee8df025986a8b4245": {
     "model_module": "@jupyter-widgets/controls",
     "model_module_version": "1.5.0",
     "model_name": "HTMLModel",
     "state": {
      "_dom_classes": [],
      "_model_module": "@jupyter-widgets/controls",
      "_model_module_version": "1.5.0",
      "_model_name": "HTMLModel",
      "_view_count": null,
      "_view_module": "@jupyter-widgets/controls",
      "_view_module_version": "1.5.0",
      "_view_name": "HTMLView",
      "description": "",
      "description_tooltip": null,
      "layout": "IPY_MODEL_cbd0ec616700408e893cbfcbb00ec798",
      "placeholder": "​",
      "style": "IPY_MODEL_fd093c712ff34a588c214df3abc1325e",
      "value": ""
     }
    },
    "358c045336024a6398b5add87b652675": {
     "model_module": "@jupyter-widgets/base",
     "model_module_version": "1.2.0",
     "model_name": "LayoutModel",
     "state": {
      "_model_module": "@jupyter-widgets/base",
      "_model_module_version": "1.2.0",
      "_model_name": "LayoutModel",
      "_view_count": null,
      "_view_module": "@jupyter-widgets/base",
      "_view_module_version": "1.2.0",
      "_view_name": "LayoutView",
      "align_content": null,
      "align_items": null,
      "align_self": null,
      "border": null,
      "bottom": null,
      "display": null,
      "flex": null,
      "flex_flow": null,
      "grid_area": null,
      "grid_auto_columns": null,
      "grid_auto_flow": null,
      "grid_auto_rows": null,
      "grid_column": null,
      "grid_gap": null,
      "grid_row": null,
      "grid_template_areas": null,
      "grid_template_columns": null,
      "grid_template_rows": null,
      "height": null,
      "justify_content": null,
      "justify_items": null,
      "left": null,
      "margin": null,
      "max_height": null,
      "max_width": null,
      "min_height": null,
      "min_width": null,
      "object_fit": null,
      "object_position": null,
      "order": null,
      "overflow": null,
      "overflow_x": null,
      "overflow_y": null,
      "padding": null,
      "right": null,
      "top": null,
      "visibility": null,
      "width": null
     }
    },
    "3b3ef5d8da59426d8a4e575c3c405452": {
     "model_module": "@jupyter-widgets/controls",
     "model_module_version": "1.5.0",
     "model_name": "ProgressStyleModel",
     "state": {
      "_model_module": "@jupyter-widgets/controls",
      "_model_module_version": "1.5.0",
      "_model_name": "ProgressStyleModel",
      "_view_count": null,
      "_view_module": "@jupyter-widgets/base",
      "_view_module_version": "1.2.0",
      "_view_name": "StyleView",
      "bar_color": null,
      "description_width": ""
     }
    },
    "40dca11584be45348b8e7d31ad65287c": {
     "model_module": "@jupyter-widgets/controls",
     "model_module_version": "1.5.0",
     "model_name": "DescriptionStyleModel",
     "state": {
      "_model_module": "@jupyter-widgets/controls",
      "_model_module_version": "1.5.0",
      "_model_name": "DescriptionStyleModel",
      "_view_count": null,
      "_view_module": "@jupyter-widgets/base",
      "_view_module_version": "1.2.0",
      "_view_name": "StyleView",
      "description_width": ""
     }
    },
    "4748ca66fafb44a6bdde00d324e37105": {
     "model_module": "@jupyter-widgets/controls",
     "model_module_version": "1.5.0",
     "model_name": "FloatProgressModel",
     "state": {
      "_dom_classes": [],
      "_model_module": "@jupyter-widgets/controls",
      "_model_module_version": "1.5.0",
      "_model_name": "FloatProgressModel",
      "_view_count": null,
      "_view_module": "@jupyter-widgets/controls",
      "_view_module_version": "1.5.0",
      "_view_name": "ProgressView",
      "bar_style": "success",
      "description": "",
      "description_tooltip": null,
      "layout": "IPY_MODEL_db4190a4f0204ceeb6c5cd8b3ba29f8b",
      "max": 5148,
      "min": 0,
      "orientation": "horizontal",
      "style": "IPY_MODEL_3b3ef5d8da59426d8a4e575c3c405452",
      "value": 5148
     }
    },
    "56ee6d0da92e4706a113db474619664b": {
     "model_module": "@jupyter-widgets/controls",
     "model_module_version": "1.5.0",
     "model_name": "HTMLModel",
     "state": {
      "_dom_classes": [],
      "_model_module": "@jupyter-widgets/controls",
      "_model_module_version": "1.5.0",
      "_model_name": "HTMLModel",
      "_view_count": null,
      "_view_module": "@jupyter-widgets/controls",
      "_view_module_version": "1.5.0",
      "_view_name": "HTMLView",
      "description": "",
      "description_tooltip": null,
      "layout": "IPY_MODEL_64321abedd754b31865beb74b333381b",
      "placeholder": "​",
      "style": "IPY_MODEL_0ca4cf6b36e7440681e37c688a315e4d",
      "value": ""
     }
    },
    "5ecc00019ced4bfaa05429059c0d5fa5": {
     "model_module": "@jupyter-widgets/controls",
     "model_module_version": "1.5.0",
     "model_name": "FloatProgressModel",
     "state": {
      "_dom_classes": [],
      "_model_module": "@jupyter-widgets/controls",
      "_model_module_version": "1.5.0",
      "_model_name": "FloatProgressModel",
      "_view_count": null,
      "_view_module": "@jupyter-widgets/controls",
      "_view_module_version": "1.5.0",
      "_view_name": "ProgressView",
      "bar_style": "success",
      "description": "",
      "description_tooltip": null,
      "layout": "IPY_MODEL_1b8649d26b424af3838668102792fc47",
      "max": 26421880,
      "min": 0,
      "orientation": "horizontal",
      "style": "IPY_MODEL_14d3df6cf7c54a8493e10ad2f4a4a411",
      "value": 26421880
     }
    },
    "64321abedd754b31865beb74b333381b": {
     "model_module": "@jupyter-widgets/base",
     "model_module_version": "1.2.0",
     "model_name": "LayoutModel",
     "state": {
      "_model_module": "@jupyter-widgets/base",
      "_model_module_version": "1.2.0",
      "_model_name": "LayoutModel",
      "_view_count": null,
      "_view_module": "@jupyter-widgets/base",
      "_view_module_version": "1.2.0",
      "_view_name": "LayoutView",
      "align_content": null,
      "align_items": null,
      "align_self": null,
      "border": null,
      "bottom": null,
      "display": null,
      "flex": null,
      "flex_flow": null,
      "grid_area": null,
      "grid_auto_columns": null,
      "grid_auto_flow": null,
      "grid_auto_rows": null,
      "grid_column": null,
      "grid_gap": null,
      "grid_row": null,
      "grid_template_areas": null,
      "grid_template_columns": null,
      "grid_template_rows": null,
      "height": null,
      "justify_content": null,
      "justify_items": null,
      "left": null,
      "margin": null,
      "max_height": null,
      "max_width": null,
      "min_height": null,
      "min_width": null,
      "object_fit": null,
      "object_position": null,
      "order": null,
      "overflow": null,
      "overflow_x": null,
      "overflow_y": null,
      "padding": null,
      "right": null,
      "top": null,
      "visibility": null,
      "width": null
     }
    },
    "6da69bfdb4e84ae6aecdf1db23d4f7c6": {
     "model_module": "@jupyter-widgets/controls",
     "model_module_version": "1.5.0",
     "model_name": "HTMLModel",
     "state": {
      "_dom_classes": [],
      "_model_module": "@jupyter-widgets/controls",
      "_model_module_version": "1.5.0",
      "_model_name": "HTMLModel",
      "_view_count": null,
      "_view_module": "@jupyter-widgets/controls",
      "_view_module_version": "1.5.0",
      "_view_name": "HTMLView",
      "description": "",
      "description_tooltip": null,
      "layout": "IPY_MODEL_e7f961bbf6654eee8dc7453a6377ff95",
      "placeholder": "​",
      "style": "IPY_MODEL_c1b01fa621bd4c1b8e87982dca6afbc5",
      "value": " 26422272/? [00:00&lt;00:00, 79932091.76it/s]"
     }
    },
    "84059c9728d24d3195c4795c3550cced": {
     "model_module": "@jupyter-widgets/base",
     "model_module_version": "1.2.0",
     "model_name": "LayoutModel",
     "state": {
      "_model_module": "@jupyter-widgets/base",
      "_model_module_version": "1.2.0",
      "_model_name": "LayoutModel",
      "_view_count": null,
      "_view_module": "@jupyter-widgets/base",
      "_view_module_version": "1.2.0",
      "_view_name": "LayoutView",
      "align_content": null,
      "align_items": null,
      "align_self": null,
      "border": null,
      "bottom": null,
      "display": null,
      "flex": null,
      "flex_flow": null,
      "grid_area": null,
      "grid_auto_columns": null,
      "grid_auto_flow": null,
      "grid_auto_rows": null,
      "grid_column": null,
      "grid_gap": null,
      "grid_row": null,
      "grid_template_areas": null,
      "grid_template_columns": null,
      "grid_template_rows": null,
      "height": null,
      "justify_content": null,
      "justify_items": null,
      "left": null,
      "margin": null,
      "max_height": null,
      "max_width": null,
      "min_height": null,
      "min_width": null,
      "object_fit": null,
      "object_position": null,
      "order": null,
      "overflow": null,
      "overflow_x": null,
      "overflow_y": null,
      "padding": null,
      "right": null,
      "top": null,
      "visibility": null,
      "width": null
     }
    },
    "8789bfd981ec49248fe9702ce3825dfb": {
     "model_module": "@jupyter-widgets/controls",
     "model_module_version": "1.5.0",
     "model_name": "HTMLModel",
     "state": {
      "_dom_classes": [],
      "_model_module": "@jupyter-widgets/controls",
      "_model_module_version": "1.5.0",
      "_model_name": "HTMLModel",
      "_view_count": null,
      "_view_module": "@jupyter-widgets/controls",
      "_view_module_version": "1.5.0",
      "_view_name": "HTMLView",
      "description": "",
      "description_tooltip": null,
      "layout": "IPY_MODEL_b138703e227a4613bf4d2e7a5855fc34",
      "placeholder": "​",
      "style": "IPY_MODEL_29d26874c47b426d86a90277cc9fbf2f",
      "value": ""
     }
    },
    "88a36ad8064e41aeaa31604aca821720": {
     "model_module": "@jupyter-widgets/base",
     "model_module_version": "1.2.0",
     "model_name": "LayoutModel",
     "state": {
      "_model_module": "@jupyter-widgets/base",
      "_model_module_version": "1.2.0",
      "_model_name": "LayoutModel",
      "_view_count": null,
      "_view_module": "@jupyter-widgets/base",
      "_view_module_version": "1.2.0",
      "_view_name": "LayoutView",
      "align_content": null,
      "align_items": null,
      "align_self": null,
      "border": null,
      "bottom": null,
      "display": null,
      "flex": null,
      "flex_flow": null,
      "grid_area": null,
      "grid_auto_columns": null,
      "grid_auto_flow": null,
      "grid_auto_rows": null,
      "grid_column": null,
      "grid_gap": null,
      "grid_row": null,
      "grid_template_areas": null,
      "grid_template_columns": null,
      "grid_template_rows": null,
      "height": null,
      "justify_content": null,
      "justify_items": null,
      "left": null,
      "margin": null,
      "max_height": null,
      "max_width": null,
      "min_height": null,
      "min_width": null,
      "object_fit": null,
      "object_position": null,
      "order": null,
      "overflow": null,
      "overflow_x": null,
      "overflow_y": null,
      "padding": null,
      "right": null,
      "top": null,
      "visibility": null,
      "width": null
     }
    },
    "890db42f951d48a6b7ef65bfcbd078d1": {
     "model_module": "@jupyter-widgets/controls",
     "model_module_version": "1.5.0",
     "model_name": "HTMLModel",
     "state": {
      "_dom_classes": [],
      "_model_module": "@jupyter-widgets/controls",
      "_model_module_version": "1.5.0",
      "_model_name": "HTMLModel",
      "_view_count": null,
      "_view_module": "@jupyter-widgets/controls",
      "_view_module_version": "1.5.0",
      "_view_name": "HTMLView",
      "description": "",
      "description_tooltip": null,
      "layout": "IPY_MODEL_25ec3750598d444b905bdff3c9c211a9",
      "placeholder": "​",
      "style": "IPY_MODEL_1623546aa2994016808369d2c9312820",
      "value": " 4422656/? [00:00&lt;00:00, 10312382.22it/s]"
     }
    },
    "896656238c524cb5abeebf64bc116159": {
     "model_module": "@jupyter-widgets/controls",
     "model_module_version": "1.5.0",
     "model_name": "ProgressStyleModel",
     "state": {
      "_model_module": "@jupyter-widgets/controls",
      "_model_module_version": "1.5.0",
      "_model_name": "ProgressStyleModel",
      "_view_count": null,
      "_view_module": "@jupyter-widgets/base",
      "_view_module_version": "1.2.0",
      "_view_name": "StyleView",
      "bar_color": null,
      "description_width": ""
     }
    },
    "8d1ef84b623c417baf8d9ef1119bbb49": {
     "model_module": "@jupyter-widgets/base",
     "model_module_version": "1.2.0",
     "model_name": "LayoutModel",
     "state": {
      "_model_module": "@jupyter-widgets/base",
      "_model_module_version": "1.2.0",
      "_model_name": "LayoutModel",
      "_view_count": null,
      "_view_module": "@jupyter-widgets/base",
      "_view_module_version": "1.2.0",
      "_view_name": "LayoutView",
      "align_content": null,
      "align_items": null,
      "align_self": null,
      "border": null,
      "bottom": null,
      "display": null,
      "flex": null,
      "flex_flow": null,
      "grid_area": null,
      "grid_auto_columns": null,
      "grid_auto_flow": null,
      "grid_auto_rows": null,
      "grid_column": null,
      "grid_gap": null,
      "grid_row": null,
      "grid_template_areas": null,
      "grid_template_columns": null,
      "grid_template_rows": null,
      "height": null,
      "justify_content": null,
      "justify_items": null,
      "left": null,
      "margin": null,
      "max_height": null,
      "max_width": null,
      "min_height": null,
      "min_width": null,
      "object_fit": null,
      "object_position": null,
      "order": null,
      "overflow": null,
      "overflow_x": null,
      "overflow_y": null,
      "padding": null,
      "right": null,
      "top": null,
      "visibility": null,
      "width": null
     }
    },
    "950cf12307b747c1b994c0a2a0e8ee59": {
     "model_module": "@jupyter-widgets/controls",
     "model_module_version": "1.5.0",
     "model_name": "FloatProgressModel",
     "state": {
      "_dom_classes": [],
      "_model_module": "@jupyter-widgets/controls",
      "_model_module_version": "1.5.0",
      "_model_name": "FloatProgressModel",
      "_view_count": null,
      "_view_module": "@jupyter-widgets/controls",
      "_view_module_version": "1.5.0",
      "_view_name": "ProgressView",
      "bar_style": "success",
      "description": "",
      "description_tooltip": null,
      "layout": "IPY_MODEL_cd7b0fd233a34f39a1133af213f5eb07",
      "max": 29515,
      "min": 0,
      "orientation": "horizontal",
      "style": "IPY_MODEL_896656238c524cb5abeebf64bc116159",
      "value": 29515
     }
    },
    "a4900a51d0044b2fadabf80e0adb5f04": {
     "model_module": "@jupyter-widgets/base",
     "model_module_version": "1.2.0",
     "model_name": "LayoutModel",
     "state": {
      "_model_module": "@jupyter-widgets/base",
      "_model_module_version": "1.2.0",
      "_model_name": "LayoutModel",
      "_view_count": null,
      "_view_module": "@jupyter-widgets/base",
      "_view_module_version": "1.2.0",
      "_view_name": "LayoutView",
      "align_content": null,
      "align_items": null,
      "align_self": null,
      "border": null,
      "bottom": null,
      "display": null,
      "flex": null,
      "flex_flow": null,
      "grid_area": null,
      "grid_auto_columns": null,
      "grid_auto_flow": null,
      "grid_auto_rows": null,
      "grid_column": null,
      "grid_gap": null,
      "grid_row": null,
      "grid_template_areas": null,
      "grid_template_columns": null,
      "grid_template_rows": null,
      "height": null,
      "justify_content": null,
      "justify_items": null,
      "left": null,
      "margin": null,
      "max_height": null,
      "max_width": null,
      "min_height": null,
      "min_width": null,
      "object_fit": null,
      "object_position": null,
      "order": null,
      "overflow": null,
      "overflow_x": null,
      "overflow_y": null,
      "padding": null,
      "right": null,
      "top": null,
      "visibility": null,
      "width": null
     }
    },
    "ac1a9d94469b491f887363ea5fc80223": {
     "model_module": "@jupyter-widgets/base",
     "model_module_version": "1.2.0",
     "model_name": "LayoutModel",
     "state": {
      "_model_module": "@jupyter-widgets/base",
      "_model_module_version": "1.2.0",
      "_model_name": "LayoutModel",
      "_view_count": null,
      "_view_module": "@jupyter-widgets/base",
      "_view_module_version": "1.2.0",
      "_view_name": "LayoutView",
      "align_content": null,
      "align_items": null,
      "align_self": null,
      "border": null,
      "bottom": null,
      "display": null,
      "flex": null,
      "flex_flow": null,
      "grid_area": null,
      "grid_auto_columns": null,
      "grid_auto_flow": null,
      "grid_auto_rows": null,
      "grid_column": null,
      "grid_gap": null,
      "grid_row": null,
      "grid_template_areas": null,
      "grid_template_columns": null,
      "grid_template_rows": null,
      "height": null,
      "justify_content": null,
      "justify_items": null,
      "left": null,
      "margin": null,
      "max_height": null,
      "max_width": null,
      "min_height": null,
      "min_width": null,
      "object_fit": null,
      "object_position": null,
      "order": null,
      "overflow": null,
      "overflow_x": null,
      "overflow_y": null,
      "padding": null,
      "right": null,
      "top": null,
      "visibility": null,
      "width": null
     }
    },
    "b138703e227a4613bf4d2e7a5855fc34": {
     "model_module": "@jupyter-widgets/base",
     "model_module_version": "1.2.0",
     "model_name": "LayoutModel",
     "state": {
      "_model_module": "@jupyter-widgets/base",
      "_model_module_version": "1.2.0",
      "_model_name": "LayoutModel",
      "_view_count": null,
      "_view_module": "@jupyter-widgets/base",
      "_view_module_version": "1.2.0",
      "_view_name": "LayoutView",
      "align_content": null,
      "align_items": null,
      "align_self": null,
      "border": null,
      "bottom": null,
      "display": null,
      "flex": null,
      "flex_flow": null,
      "grid_area": null,
      "grid_auto_columns": null,
      "grid_auto_flow": null,
      "grid_auto_rows": null,
      "grid_column": null,
      "grid_gap": null,
      "grid_row": null,
      "grid_template_areas": null,
      "grid_template_columns": null,
      "grid_template_rows": null,
      "height": null,
      "justify_content": null,
      "justify_items": null,
      "left": null,
      "margin": null,
      "max_height": null,
      "max_width": null,
      "min_height": null,
      "min_width": null,
      "object_fit": null,
      "object_position": null,
      "order": null,
      "overflow": null,
      "overflow_x": null,
      "overflow_y": null,
      "padding": null,
      "right": null,
      "top": null,
      "visibility": null,
      "width": null
     }
    },
    "b8e652175b82476b9019e45201b32dea": {
     "model_module": "@jupyter-widgets/controls",
     "model_module_version": "1.5.0",
     "model_name": "ProgressStyleModel",
     "state": {
      "_model_module": "@jupyter-widgets/controls",
      "_model_module_version": "1.5.0",
      "_model_name": "ProgressStyleModel",
      "_view_count": null,
      "_view_module": "@jupyter-widgets/base",
      "_view_module_version": "1.2.0",
      "_view_name": "StyleView",
      "bar_color": null,
      "description_width": ""
     }
    },
    "bede34bfb9284273a92bc9b6aa84ce2c": {
     "model_module": "@jupyter-widgets/controls",
     "model_module_version": "1.5.0",
     "model_name": "HBoxModel",
     "state": {
      "_dom_classes": [],
      "_model_module": "@jupyter-widgets/controls",
      "_model_module_version": "1.5.0",
      "_model_name": "HBoxModel",
      "_view_count": null,
      "_view_module": "@jupyter-widgets/controls",
      "_view_module_version": "1.5.0",
      "_view_name": "HBoxView",
      "box_style": "",
      "children": [
       "IPY_MODEL_e91921323d654671b1bf05e94fa42765",
       "IPY_MODEL_f94074be9a3043709cc7bbffc83c9e0a",
       "IPY_MODEL_890db42f951d48a6b7ef65bfcbd078d1"
      ],
      "layout": "IPY_MODEL_84059c9728d24d3195c4795c3550cced"
     }
    },
    "c1b01fa621bd4c1b8e87982dca6afbc5": {
     "model_module": "@jupyter-widgets/controls",
     "model_module_version": "1.5.0",
     "model_name": "DescriptionStyleModel",
     "state": {
      "_model_module": "@jupyter-widgets/controls",
      "_model_module_version": "1.5.0",
      "_model_name": "DescriptionStyleModel",
      "_view_count": null,
      "_view_module": "@jupyter-widgets/base",
      "_view_module_version": "1.2.0",
      "_view_name": "StyleView",
      "description_width": ""
     }
    },
    "c34bb3d5f85649718df7c112d099140a": {
     "model_module": "@jupyter-widgets/controls",
     "model_module_version": "1.5.0",
     "model_name": "HTMLModel",
     "state": {
      "_dom_classes": [],
      "_model_module": "@jupyter-widgets/controls",
      "_model_module_version": "1.5.0",
      "_model_name": "HTMLModel",
      "_view_count": null,
      "_view_module": "@jupyter-widgets/controls",
      "_view_module_version": "1.5.0",
      "_view_name": "HTMLView",
      "description": "",
      "description_tooltip": null,
      "layout": "IPY_MODEL_8d1ef84b623c417baf8d9ef1119bbb49",
      "placeholder": "​",
      "style": "IPY_MODEL_07c5218a1521403fb99dc4622e94df36",
      "value": " 6144/? [00:00&lt;00:00, 9937.02it/s]"
     }
    },
    "c8d3bc7bb17e43e0bb8cac82f74b4552": {
     "model_module": "@jupyter-widgets/controls",
     "model_module_version": "1.5.0",
     "model_name": "HBoxModel",
     "state": {
      "_dom_classes": [],
      "_model_module": "@jupyter-widgets/controls",
      "_model_module_version": "1.5.0",
      "_model_name": "HBoxModel",
      "_view_count": null,
      "_view_module": "@jupyter-widgets/controls",
      "_view_module_version": "1.5.0",
      "_view_name": "HBoxView",
      "box_style": "",
      "children": [
       "IPY_MODEL_56ee6d0da92e4706a113db474619664b",
       "IPY_MODEL_950cf12307b747c1b994c0a2a0e8ee59",
       "IPY_MODEL_13376305616b4ee4967b964ce07d7e2b"
      ],
      "layout": "IPY_MODEL_88a36ad8064e41aeaa31604aca821720"
     }
    },
    "cabf8c4285c642ff99ff76ec9b175902": {
     "model_module": "@jupyter-widgets/controls",
     "model_module_version": "1.5.0",
     "model_name": "HBoxModel",
     "state": {
      "_dom_classes": [],
      "_model_module": "@jupyter-widgets/controls",
      "_model_module_version": "1.5.0",
      "_model_name": "HBoxModel",
      "_view_count": null,
      "_view_module": "@jupyter-widgets/controls",
      "_view_module_version": "1.5.0",
      "_view_name": "HBoxView",
      "box_style": "",
      "children": [
       "IPY_MODEL_8789bfd981ec49248fe9702ce3825dfb",
       "IPY_MODEL_5ecc00019ced4bfaa05429059c0d5fa5",
       "IPY_MODEL_6da69bfdb4e84ae6aecdf1db23d4f7c6"
      ],
      "layout": "IPY_MODEL_e8ed7f52fc90468194bea1d383a12597"
     }
    },
    "cbd0ec616700408e893cbfcbb00ec798": {
     "model_module": "@jupyter-widgets/base",
     "model_module_version": "1.2.0",
     "model_name": "LayoutModel",
     "state": {
      "_model_module": "@jupyter-widgets/base",
      "_model_module_version": "1.2.0",
      "_model_name": "LayoutModel",
      "_view_count": null,
      "_view_module": "@jupyter-widgets/base",
      "_view_module_version": "1.2.0",
      "_view_name": "LayoutView",
      "align_content": null,
      "align_items": null,
      "align_self": null,
      "border": null,
      "bottom": null,
      "display": null,
      "flex": null,
      "flex_flow": null,
      "grid_area": null,
      "grid_auto_columns": null,
      "grid_auto_flow": null,
      "grid_auto_rows": null,
      "grid_column": null,
      "grid_gap": null,
      "grid_row": null,
      "grid_template_areas": null,
      "grid_template_columns": null,
      "grid_template_rows": null,
      "height": null,
      "justify_content": null,
      "justify_items": null,
      "left": null,
      "margin": null,
      "max_height": null,
      "max_width": null,
      "min_height": null,
      "min_width": null,
      "object_fit": null,
      "object_position": null,
      "order": null,
      "overflow": null,
      "overflow_x": null,
      "overflow_y": null,
      "padding": null,
      "right": null,
      "top": null,
      "visibility": null,
      "width": null
     }
    },
    "cd7b0fd233a34f39a1133af213f5eb07": {
     "model_module": "@jupyter-widgets/base",
     "model_module_version": "1.2.0",
     "model_name": "LayoutModel",
     "state": {
      "_model_module": "@jupyter-widgets/base",
      "_model_module_version": "1.2.0",
      "_model_name": "LayoutModel",
      "_view_count": null,
      "_view_module": "@jupyter-widgets/base",
      "_view_module_version": "1.2.0",
      "_view_name": "LayoutView",
      "align_content": null,
      "align_items": null,
      "align_self": null,
      "border": null,
      "bottom": null,
      "display": null,
      "flex": null,
      "flex_flow": null,
      "grid_area": null,
      "grid_auto_columns": null,
      "grid_auto_flow": null,
      "grid_auto_rows": null,
      "grid_column": null,
      "grid_gap": null,
      "grid_row": null,
      "grid_template_areas": null,
      "grid_template_columns": null,
      "grid_template_rows": null,
      "height": null,
      "justify_content": null,
      "justify_items": null,
      "left": null,
      "margin": null,
      "max_height": null,
      "max_width": null,
      "min_height": null,
      "min_width": null,
      "object_fit": null,
      "object_position": null,
      "order": null,
      "overflow": null,
      "overflow_x": null,
      "overflow_y": null,
      "padding": null,
      "right": null,
      "top": null,
      "visibility": null,
      "width": null
     }
    },
    "d799a20689ab489297c8f9e1b5c01618": {
     "model_module": "@jupyter-widgets/base",
     "model_module_version": "1.2.0",
     "model_name": "LayoutModel",
     "state": {
      "_model_module": "@jupyter-widgets/base",
      "_model_module_version": "1.2.0",
      "_model_name": "LayoutModel",
      "_view_count": null,
      "_view_module": "@jupyter-widgets/base",
      "_view_module_version": "1.2.0",
      "_view_name": "LayoutView",
      "align_content": null,
      "align_items": null,
      "align_self": null,
      "border": null,
      "bottom": null,
      "display": null,
      "flex": null,
      "flex_flow": null,
      "grid_area": null,
      "grid_auto_columns": null,
      "grid_auto_flow": null,
      "grid_auto_rows": null,
      "grid_column": null,
      "grid_gap": null,
      "grid_row": null,
      "grid_template_areas": null,
      "grid_template_columns": null,
      "grid_template_rows": null,
      "height": null,
      "justify_content": null,
      "justify_items": null,
      "left": null,
      "margin": null,
      "max_height": null,
      "max_width": null,
      "min_height": null,
      "min_width": null,
      "object_fit": null,
      "object_position": null,
      "order": null,
      "overflow": null,
      "overflow_x": null,
      "overflow_y": null,
      "padding": null,
      "right": null,
      "top": null,
      "visibility": null,
      "width": null
     }
    },
    "db4190a4f0204ceeb6c5cd8b3ba29f8b": {
     "model_module": "@jupyter-widgets/base",
     "model_module_version": "1.2.0",
     "model_name": "LayoutModel",
     "state": {
      "_model_module": "@jupyter-widgets/base",
      "_model_module_version": "1.2.0",
      "_model_name": "LayoutModel",
      "_view_count": null,
      "_view_module": "@jupyter-widgets/base",
      "_view_module_version": "1.2.0",
      "_view_name": "LayoutView",
      "align_content": null,
      "align_items": null,
      "align_self": null,
      "border": null,
      "bottom": null,
      "display": null,
      "flex": null,
      "flex_flow": null,
      "grid_area": null,
      "grid_auto_columns": null,
      "grid_auto_flow": null,
      "grid_auto_rows": null,
      "grid_column": null,
      "grid_gap": null,
      "grid_row": null,
      "grid_template_areas": null,
      "grid_template_columns": null,
      "grid_template_rows": null,
      "height": null,
      "justify_content": null,
      "justify_items": null,
      "left": null,
      "margin": null,
      "max_height": null,
      "max_width": null,
      "min_height": null,
      "min_width": null,
      "object_fit": null,
      "object_position": null,
      "order": null,
      "overflow": null,
      "overflow_x": null,
      "overflow_y": null,
      "padding": null,
      "right": null,
      "top": null,
      "visibility": null,
      "width": null
     }
    },
    "e7f961bbf6654eee8dc7453a6377ff95": {
     "model_module": "@jupyter-widgets/base",
     "model_module_version": "1.2.0",
     "model_name": "LayoutModel",
     "state": {
      "_model_module": "@jupyter-widgets/base",
      "_model_module_version": "1.2.0",
      "_model_name": "LayoutModel",
      "_view_count": null,
      "_view_module": "@jupyter-widgets/base",
      "_view_module_version": "1.2.0",
      "_view_name": "LayoutView",
      "align_content": null,
      "align_items": null,
      "align_self": null,
      "border": null,
      "bottom": null,
      "display": null,
      "flex": null,
      "flex_flow": null,
      "grid_area": null,
      "grid_auto_columns": null,
      "grid_auto_flow": null,
      "grid_auto_rows": null,
      "grid_column": null,
      "grid_gap": null,
      "grid_row": null,
      "grid_template_areas": null,
      "grid_template_columns": null,
      "grid_template_rows": null,
      "height": null,
      "justify_content": null,
      "justify_items": null,
      "left": null,
      "margin": null,
      "max_height": null,
      "max_width": null,
      "min_height": null,
      "min_width": null,
      "object_fit": null,
      "object_position": null,
      "order": null,
      "overflow": null,
      "overflow_x": null,
      "overflow_y": null,
      "padding": null,
      "right": null,
      "top": null,
      "visibility": null,
      "width": null
     }
    },
    "e8ed7f52fc90468194bea1d383a12597": {
     "model_module": "@jupyter-widgets/base",
     "model_module_version": "1.2.0",
     "model_name": "LayoutModel",
     "state": {
      "_model_module": "@jupyter-widgets/base",
      "_model_module_version": "1.2.0",
      "_model_name": "LayoutModel",
      "_view_count": null,
      "_view_module": "@jupyter-widgets/base",
      "_view_module_version": "1.2.0",
      "_view_name": "LayoutView",
      "align_content": null,
      "align_items": null,
      "align_self": null,
      "border": null,
      "bottom": null,
      "display": null,
      "flex": null,
      "flex_flow": null,
      "grid_area": null,
      "grid_auto_columns": null,
      "grid_auto_flow": null,
      "grid_auto_rows": null,
      "grid_column": null,
      "grid_gap": null,
      "grid_row": null,
      "grid_template_areas": null,
      "grid_template_columns": null,
      "grid_template_rows": null,
      "height": null,
      "justify_content": null,
      "justify_items": null,
      "left": null,
      "margin": null,
      "max_height": null,
      "max_width": null,
      "min_height": null,
      "min_width": null,
      "object_fit": null,
      "object_position": null,
      "order": null,
      "overflow": null,
      "overflow_x": null,
      "overflow_y": null,
      "padding": null,
      "right": null,
      "top": null,
      "visibility": null,
      "width": null
     }
    },
    "e91921323d654671b1bf05e94fa42765": {
     "model_module": "@jupyter-widgets/controls",
     "model_module_version": "1.5.0",
     "model_name": "HTMLModel",
     "state": {
      "_dom_classes": [],
      "_model_module": "@jupyter-widgets/controls",
      "_model_module_version": "1.5.0",
      "_model_name": "HTMLModel",
      "_view_count": null,
      "_view_module": "@jupyter-widgets/controls",
      "_view_module_version": "1.5.0",
      "_view_name": "HTMLView",
      "description": "",
      "description_tooltip": null,
      "layout": "IPY_MODEL_358c045336024a6398b5add87b652675",
      "placeholder": "​",
      "style": "IPY_MODEL_40dca11584be45348b8e7d31ad65287c",
      "value": ""
     }
    },
    "f94074be9a3043709cc7bbffc83c9e0a": {
     "model_module": "@jupyter-widgets/controls",
     "model_module_version": "1.5.0",
     "model_name": "FloatProgressModel",
     "state": {
      "_dom_classes": [],
      "_model_module": "@jupyter-widgets/controls",
      "_model_module_version": "1.5.0",
      "_model_name": "FloatProgressModel",
      "_view_count": null,
      "_view_module": "@jupyter-widgets/controls",
      "_view_module_version": "1.5.0",
      "_view_name": "ProgressView",
      "bar_style": "success",
      "description": "",
      "description_tooltip": null,
      "layout": "IPY_MODEL_ac1a9d94469b491f887363ea5fc80223",
      "max": 4422102,
      "min": 0,
      "orientation": "horizontal",
      "style": "IPY_MODEL_b8e652175b82476b9019e45201b32dea",
      "value": 4422102
     }
    },
    "fd093c712ff34a588c214df3abc1325e": {
     "model_module": "@jupyter-widgets/controls",
     "model_module_version": "1.5.0",
     "model_name": "DescriptionStyleModel",
     "state": {
      "_model_module": "@jupyter-widgets/controls",
      "_model_module_version": "1.5.0",
      "_model_name": "DescriptionStyleModel",
      "_view_count": null,
      "_view_module": "@jupyter-widgets/base",
      "_view_module_version": "1.2.0",
      "_view_name": "StyleView",
      "description_width": ""
     }
    }
   }
  }
 },
 "nbformat": 4,
 "nbformat_minor": 1
}